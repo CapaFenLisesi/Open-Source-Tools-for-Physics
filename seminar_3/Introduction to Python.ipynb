{
 "cells": [
  {
   "cell_type": "markdown",
   "metadata": {},
   "source": [
    "# Introduction to Python"
   ]
  },
  {
   "cell_type": "markdown",
   "metadata": {},
   "source": [
    "## Basic interaction"
   ]
  },
  {
   "cell_type": "markdown",
   "metadata": {},
   "source": [
    "Python can be used as a calculator since there is no need to declare types and most of the operations behave as expected (like the int division). The power operator is not ^ but **."
   ]
  },
  {
   "cell_type": "code",
   "execution_count": 1,
   "metadata": {},
   "outputs": [
    {
     "data": {
      "text/plain": [
       "4"
      ]
     },
     "execution_count": 1,
     "metadata": {},
     "output_type": "execute_result"
    }
   ],
   "source": [
    "2 + 2"
   ]
  },
  {
   "cell_type": "code",
   "execution_count": 2,
   "metadata": {},
   "outputs": [
    {
     "data": {
      "text/plain": [
       "1.5"
      ]
     },
     "execution_count": 2,
     "metadata": {},
     "output_type": "execute_result"
    }
   ],
   "source": [
    "3 / 2"
   ]
  },
  {
   "cell_type": "code",
   "execution_count": 3,
   "metadata": {},
   "outputs": [
    {
     "data": {
      "text/plain": [
       "256"
      ]
     },
     "execution_count": 3,
     "metadata": {},
     "output_type": "execute_result"
    }
   ],
   "source": [
    "2 ** 8"
   ]
  },
  {
   "cell_type": "markdown",
   "metadata": {},
   "source": [
    "Variables can be defined freely and change type. There is a very handy print function (this is very different from Python2!). The format function can be used to customize the output. More at https://pyformat.info/"
   ]
  },
  {
   "cell_type": "code",
   "execution_count": 4,
   "metadata": {},
   "outputs": [
    {
     "name": "stdout",
     "output_type": "stream",
     "text": [
      "I multiply 42 and 256 and I get 10752\n",
      "Compex numbers! (7-3j)\n",
      "Real: 2.0\n",
      "Abs: 3.605551275463989\n"
     ]
    }
   ],
   "source": [
    "a = 42\n",
    "b = 256\n",
    "z = 2 + 3j\n",
    "w = 5 - 6j\n",
    "print(\"I multiply\", a, \"and\", b, \"and I get\", a * b)\n",
    "print(\"Compex numbers!\", z + w)\n",
    "print(\"Real:\", z.real)\n",
    "# Variables as objects (in Python everything is an object)\n",
    "print(\"Abs:\", abs(z))"
   ]
  },
  {
   "cell_type": "code",
   "execution_count": 5,
   "metadata": {},
   "outputs": [
    {
     "name": "stdout",
     "output_type": "stream",
     "text": [
      "Look at his scientific notation 3.00E+08 or ar this nice rounding 3.142\n"
     ]
    }
   ],
   "source": [
    "almost_pi = 3.14\n",
    "better_pi =  3.14159265358979323846264338327950288419716939937510\n",
    "c = 299792458\n",
    "print(\"Look at his scientific notation {:.2E} or ar this nice rounding {:.3f}\".format(c, better_pi))"
   ]
  },
  {
   "cell_type": "markdown",
   "metadata": {},
   "source": [
    "Note that Python does not require semicolons to terminate an instruction (but they don't harm) but require the indendation to be respected. (After for, if, while, def, class, ...)"
   ]
  },
  {
   "cell_type": "code",
   "execution_count": 6,
   "metadata": {},
   "outputs": [
    {
     "name": "stdout",
     "output_type": "stream",
     "text": [
      "0\n",
      "1\n",
      "3\n"
     ]
    }
   ],
   "source": [
    "for i in range(5):\n",
    "    if (not i%2 == 0 or i == 0):\n",
    "        print(i)"
   ]
  },
  {
   "cell_type": "markdown",
   "metadata": {},
   "source": [
    "## Strucutred Data"
   ]
  },
  {
   "cell_type": "markdown",
   "metadata": {},
   "source": [
    "It's easy to work with variables of different nature. There are three kinds of structured variable: tuple (), lists [], and dicts {}. Tuples are immutable (ofter output of functions is given as a tuple). Lists are the usual arrays (multidimensional). Dictionaries are associative arrays with keywords."
   ]
  },
  {
   "cell_type": "code",
   "execution_count": 9,
   "metadata": {},
   "outputs": [
    {
     "name": "stdout",
     "output_type": "stream",
     "text": [
      "Hello, World\n",
      "Hello World\n",
      "Tuple 1\n",
      "List 1 1\n",
      "List 2 4\n",
      "Dict 1\n"
     ]
    }
   ],
   "source": [
    "a = 5\n",
    "a = \"Hello, World\"\n",
    "# Multiple assignation\n",
    "b, c = \"Hello\", \"World\"\n",
    "print(a)\n",
    "print(b, c)\n",
    "\n",
    "tuple_example = (1,2,3)\n",
    "print(\"Tuple\", tuple_example[0])\n",
    "# tuple_example[1] = 3\n",
    "\n",
    "list_example = [1,2,3]\n",
    "print(\"List 1\", list_example[0])\n",
    "list_example[1] = 4\n",
    "print(\"List 2\", list_example[1])\n",
    "\n",
    "dict_example = {'one' : 1,\n",
    "                'two' : 2,\n",
    "                'three' : 3\n",
    "               }\n",
    "print(\"Dict\", dict_example['one'])"
   ]
  },
  {
   "cell_type": "markdown",
   "metadata": {},
   "source": [
    "Lists are very useful as most of the methods are build it, like for sorting, reversing, inserting, deleting, slicing, ..."
   ]
  },
  {
   "cell_type": "code",
   "execution_count": 10,
   "metadata": {},
   "outputs": [
    {
     "name": "stdout",
     "output_type": "stream",
     "text": [
      "Length: 7\n",
      "Sliced: [1, 64, 78, 13, 54]\n",
      "Sorted: [1, 13, 54, 64, 78]\n",
      "Max: 78\n",
      "Removed: [1, 64, 78, 13, 54, 34]\n",
      "Concatenated list [1, 64, 78, 13, 54, 34, 'A string', ['a', 'list'], ('A', 'Tuple'), 5]\n"
     ]
    }
   ],
   "source": [
    "random_numbers = [1,64,78,13,54,34, \"Ravioli\"]\n",
    "print(\"Length:\", len(random_numbers))\n",
    "true_random = random_numbers[0:5]\n",
    "print(\"Sliced:\", true_random)\n",
    "print(\"Sorted:\", sorted(true_random))\n",
    "print(\"Max:\", max(true_random))\n",
    "\n",
    "random_numbers.remove(\"Ravioli\")\n",
    "print(\"Removed:\", random_numbers)\n",
    "\n",
    "multi_list = [\"A string\", [\"a\", \"list\"], (\"A\", \"Tuple\"), 5]\n",
    "\n",
    "print(\"Concatenated list\", random_numbers + multi_list)"
   ]
  },
  {
   "cell_type": "markdown",
   "metadata": {},
   "source": [
    "**CAVEAT**: List can be dangerous and have unexpected behavior due to the default copy method (like pointers pointing to the same area of memory)"
   ]
  },
  {
   "cell_type": "code",
   "execution_count": 11,
   "metadata": {},
   "outputs": [
    {
     "name": "stdout",
     "output_type": "stream",
     "text": [
      "[0, 11, 42]\n",
      "[0, 11, 42, 300]\n"
     ]
    }
   ],
   "source": [
    "cool_numbers = [0, 11, 42]\n",
    "other_numbers = cool_numbers\n",
    "\n",
    "print(other_numbers)\n",
    "\n",
    "cool_numbers.append(300)\n",
    "\n",
    "print(other_numbers)"
   ]
  },
  {
   "cell_type": "markdown",
   "metadata": {},
   "source": [
    "To avoid this problem usually slicing is used."
   ]
  },
  {
   "cell_type": "code",
   "execution_count": 13,
   "metadata": {},
   "outputs": [
    {
     "name": "stdout",
     "output_type": "stream",
     "text": [
      "[0, 11, 42]\n",
      "[0, 11, 42]\n"
     ]
    }
   ],
   "source": [
    "cool_numbers = [0, 11, 42]\n",
    "other_numbers = cool_numbers[:]\n",
    "\n",
    "print(other_numbers)\n",
    "\n",
    "cool_numbers.append(300)\n",
    "\n",
    "print(other_numbers)"
   ]
  },
  {
   "cell_type": "markdown",
   "metadata": {},
   "source": [
    "String are considered list and slicing can be applied on strings, with a sleek behavior with respect to indeces:"
   ]
  },
  {
   "cell_type": "code",
   "execution_count": 14,
   "metadata": {},
   "outputs": [
    {
     "name": "stdout",
     "output_type": "stream",
     "text": [
      "Emacs\n",
      "GNU\n"
     ]
    }
   ],
   "source": [
    "s = \"GNU Emacs\"\n",
    "# No problem with \"wrong\" index\n",
    "print(s[4:100])\n",
    "# Backwards!\n",
    "print(s[-9:-6])"
   ]
  },
  {
   "cell_type": "markdown",
   "metadata": {},
   "source": [
    "With a for loop it is possible to iterate over lists. (But attention not to modify the list over which for is iterating!)"
   ]
  },
  {
   "cell_type": "code",
   "execution_count": 15,
   "metadata": {},
   "outputs": [
    {
     "name": "stdout",
     "output_type": "stream",
     "text": [
      "I like the number 0\n",
      "I like the number 11\n",
      "I like the number 42\n",
      "I like the number 300\n"
     ]
    }
   ],
   "source": [
    "for num in cool_numbers:\n",
    "    print(\"I like the number\", num)"
   ]
  },
  {
   "cell_type": "markdown",
   "metadata": {},
   "source": [
    "List can generate other list via _list comprehension_ which is a functional way to operate on a list or a subset defined by if statements."
   ]
  },
  {
   "cell_type": "code",
   "execution_count": 16,
   "metadata": {},
   "outputs": [
    {
     "name": "stdout",
     "output_type": "stream",
     "text": [
      "Numbers: [0, 1, 2, 3, 4, 5, 6, 7]\n",
      "Even: [0, 2, 4, 6]\n",
      "Odd: [1, 3, 5, 7]\n"
     ]
    }
   ],
   "source": [
    "numbers = [0, 1, 2, 3, 4, 5, 6, 7]\n",
    "\n",
    "# Numbers via list comprehension\n",
    "\n",
    "numbers = [i for i in range(0,8)]\n",
    "print(\"Numbers:\", numbers)\n",
    "\n",
    "even = [x for x in numbers if x%2 == 0]\n",
    "odd = [x for x in numbers if not x in even]\n",
    "print(\"Even:\", even)\n",
    "print(\"Odd:\", odd)"
   ]
  },
  {
   "cell_type": "markdown",
   "metadata": {},
   "source": [
    "## Functions"
   ]
  },
  {
   "cell_type": "markdown",
   "metadata": {},
   "source": [
    "Python can have user-defined functions. There are some details about _passing by reference_ or _passing by value_ (what Python actually does is _passing by assignment_, details here: https://docs.python.org/3/faq/programming.html#how-do-i-write-a-function-with-output-parameters-call-by-reference). There are no return and arguments type but there is no overloading."
   ]
  },
  {
   "cell_type": "code",
   "execution_count": 18,
   "metadata": {},
   "outputs": [
    {
     "name": "stdout",
     "output_type": "stream",
     "text": [
      "Hello Gabriele\n",
      "Hello Albert\n",
      "Sum: 25, Diff: -5\n",
      "100\n"
     ]
    }
   ],
   "source": [
    "def say_hello(to = \"Gabriele\"):\n",
    "    print(\"Hello\", to)\n",
    "    \n",
    "say_hello()\n",
    "say_hello(\"Albert\")\n",
    "\n",
    "\n",
    "def sum_and_difference(a, b):\n",
    "    return (a + b, a - b)\n",
    "\n",
    "(sum, diff) = sum_and_difference(10, 15)\n",
    "print(\"Sum: {}, Diff: {}\".format(sum, diff))\n",
    "\n",
    "def usless_box(a,b,c,d,e,f):\n",
    "    return a,b,c,d,e,f\n",
    "\n",
    "first, _, _, _, _, _ = usless_box(100, 0, 1, 2, 3, 4)\n",
    "\n",
    "print(first)"
   ]
  },
  {
   "cell_type": "markdown",
   "metadata": {},
   "source": [
    "A very useful construct is try-except that can be used to handle errors."
   ]
  },
  {
   "cell_type": "code",
   "execution_count": 19,
   "metadata": {},
   "outputs": [
    {
     "name": "stdout",
     "output_type": "stream",
     "text": [
      "Error in hey!\n",
      "2.0\n"
     ]
    }
   ],
   "source": [
    "hey = \"String\"\n",
    "ohi = 6\n",
    "\n",
    "try:\n",
    "    print(hey/3)\n",
    "except:\n",
    "    print(\"Error in hey!\")\n",
    "    \n",
    "try:\n",
    "    print(ohi/3)\n",
    "except:\n",
    "    print(\"Error in ohi!\")"
   ]
  },
  {
   "cell_type": "markdown",
   "metadata": {},
   "source": [
    "**NOTE**: Prefer this name convenction (no CamelCase) and space over tabs"
   ]
  },
  {
   "cell_type": "markdown",
   "metadata": {},
   "source": [
    "There is full support to OOP with Ineheritance, Encapsulation and Polymorphism. (https://docs.python.org/3/tutorial/classes.html)"
   ]
  },
  {
   "cell_type": "markdown",
   "metadata": {},
   "source": [
    "## Shipped with battery included"
   ]
  },
  {
   "cell_type": "markdown",
   "metadata": {},
   "source": [
    "For Python there exist a huge number of _modules_ that extend the potentiality of Python. Here are some examples:\n"
   ]
  },
  {
   "cell_type": "markdown",
   "metadata": {},
   "source": [
    "### OS \n",
    "os is a module for interacting with the system and with files"
   ]
  },
  {
   "cell_type": "code",
   "execution_count": 20,
   "metadata": {},
   "outputs": [
    {
     "name": "stdout",
     "output_type": "stream",
     "text": [
      "/home/sbozzolo/misc/Linux4Physics/seminar_3\n",
      "/home/sbozzolo/misc/Linux4Physics/seminar_3\n"
     ]
    }
   ],
   "source": [
    "# Modules have to be imported\n",
    "# In this way I import thw whole module\n",
    "import os\n",
    "# To access an object inside the module I have to prepend the name\n",
    "\n",
    "# In this way I import only a function but I don't have to prepend the \n",
    "# module's name\n",
    "from os import getcwd \n",
    "\n",
    "print(os.getcwd())\n",
    "print(getcwd())"
   ]
  },
  {
   "cell_type": "markdown",
   "metadata": {},
   "source": [
    "os with Python's capability for manipulating string is a very simple way to interact with files and dir"
   ]
  },
  {
   "cell_type": "code",
   "execution_count": 21,
   "metadata": {},
   "outputs": [
    {
     "name": "stdout",
     "output_type": "stream",
     "text": [
      "['d1_2_1', 'e2_4_2', 'e1_2_1', 'e0_0_0', 'd4_8_4', 'e4_8_4', 'e6_12_6', 'd5_10_5', 'e10_20_10', 'd7_14_7', 'e5_10_5', 'd6_12_6', 'e7_14_7', 'd3_6_3', 'e8_16_8', 'e9_18_9', 'd8_16_8', 'e3_6_3', 'd10_20_10', 'd2_4_2', 'd9_18_9', 'd0_0_0']\n",
      "['d0_0_0', 'd10_20_10', 'd1_2_1', 'd2_4_2', 'd3_6_3', 'd4_8_4', 'd5_10_5', 'd6_12_6', 'd7_14_7', 'd8_16_8', 'd9_18_9', 'e0_0_0', 'e10_20_10', 'e1_2_1', 'e2_4_2', 'e3_6_3', 'e4_8_4', 'e5_10_5', 'e6_12_6', 'e7_14_7', 'e8_16_8', 'e9_18_9']\n",
      "['d0_0_0', 'd1_2_1', 'd2_4_2', 'd3_6_3', 'd4_8_4', 'd5_10_5', 'd6_12_6', 'd7_14_7', 'd8_16_8', 'd9_18_9']\n",
      "From the name of the file d0_0_0 I have extrected 0 0\n",
      "From the name of the file d1_2_1 I have extrected 2 1\n",
      "From the name of the file d2_4_2 I have extrected 4 2\n",
      "From the name of the file d3_6_3 I have extrected 6 3\n",
      "From the name of the file d4_8_4 I have extrected 8 4\n",
      "From the name of the file d5_10_5 I have extrected 10 5\n",
      "From the name of the file d6_12_6 I have extrected 12 6\n",
      "From the name of the file d7_14_7 I have extrected 14 7\n",
      "From the name of the file d8_16_8 I have extrected 16 8\n",
      "From the name of the file d9_18_9 I have extrected 18 9\n"
     ]
    }
   ],
   "source": [
    "dir = \"test\"\n",
    "files = os.listdir(dir)\n",
    "print(files)\n",
    "\n",
    "# Sorting\n",
    "files.sort()\n",
    "print(files)\n",
    "\n",
    "# I take the subset starting with d and not ending with 10 and that are not directories\n",
    "\n",
    "dfiles = [f for f in files if f.startswith(\"d\") and not f.endswith(\"10\") and not os.path.isdir(f)]\n",
    "\n",
    "print(dfiles)\n",
    "\n",
    "for f in dfiles:\n",
    "    data = f.split(\"_\")\n",
    "    n1 = data[1]\n",
    "    n2 = data[2]\n",
    "    print(\"From the name of the file {} I have extrected {} {}\".format(f, n1, n2))"
   ]
  },
  {
   "cell_type": "markdown",
   "metadata": {},
   "source": [
    "### Sys (and argparse)"
   ]
  },
  {
   "cell_type": "markdown",
   "metadata": {},
   "source": [
    "sys is another module for interactive with the system or to obtain information about it, in particular by means of the command line. \n",
    "argparse is a module for defining flags and arguments."
   ]
  },
  {
   "cell_type": "code",
   "execution_count": 22,
   "metadata": {},
   "outputs": [
    {
     "name": "stdout",
     "output_type": "stream",
     "text": [
      "/usr/lib/python3.6/site-packages/ipykernel_launcher.py\n"
     ]
    }
   ],
   "source": [
    "import sys\n",
    "\n",
    "# sys provides the simplest way to pass command line arguments to a python script\n",
    "print(sys.argv[0])\n",
    "\n",
    "\n",
    "# argparse is more flexible but requires also more setup"
   ]
  },
  {
   "cell_type": "markdown",
   "metadata": {},
   "source": [
    "### NumPy"
   ]
  },
  {
   "cell_type": "markdown",
   "metadata": {},
   "source": [
    "Numpy is a module that provides a framework for numerical application. It defines new type of data highly optimized (NumPy is written in C) and provides simple interfaces for importing data from files and manipulate them. It is well integrated with the other scientific libraries for Python as it serves as base in many cases (SciPy, Matplotlib, Pandas, ...) Its fundamental object is the numpy array.\n",
    "With good (enough) documentation!"
   ]
  },
  {
   "cell_type": "code",
   "execution_count": 24,
   "metadata": {},
   "outputs": [
    {
     "name": "stdout",
     "output_type": "stream",
     "text": [
      "List: [0, 1, 2]\n",
      "Array: [0 1 2]\n",
      "Random [0 0 2]\n",
      "z: [[0 1 2]\n",
      " [0 0 2]]\n",
      "Shape (2, 3)\n",
      "z reshaped: [[0 1]\n",
      " [2 0]\n",
      " [0 2]]\n",
      "y + 3: [3 3 5]\n",
      "y squared: [0 0 4]\n",
      "Scalar product: 4\n",
      "xx: [  0.   1.   2.   3.   4.   5.   6.   7.   8.   9.  10.  11.  12.  13.  14.\n",
      "  15.]\n",
      "yy: [   0.    1.    4.    9.   16.   25.   36.   49.   64.   81.  100.  121.\n",
      "  144.  169.  196.  225.]\n",
      "zz [[   0.    1.    4.    9.]\n",
      " [  16.   25.   36.   49.]\n",
      " [  64.   81.  100.  121.]\n",
      " [ 144.  169.  196.  225.]]\n",
      "Eigenvalues: [  3.65926730e+02  -1.75236436e+01   1.59691356e+00  -1.24290102e-14]\n"
     ]
    }
   ],
   "source": [
    "# Standard import\n",
    "import numpy as np\n",
    "\n",
    "# Array from list\n",
    "num = [0,1,2]\n",
    "print(\"List:\", num)\n",
    "\n",
    "x = np.array(num)\n",
    "print(\"Array:\", x)\n",
    "\n",
    "y = np.random.randint(3, size = (3))\n",
    "print(\"Random\", y)\n",
    "\n",
    "z = np.array([x,y])\n",
    "print(\"z:\", z)\n",
    "print(\"Shape\", z.shape)\n",
    "zres = z.reshape(3,2)\n",
    "print(\"z reshaped:\", zres)\n",
    "# Attention: numpy does not alter any object!\n",
    "\n",
    "# Operation behave well on arrays\n",
    "y3 = y + 3\n",
    "print(\"y + 3:\", y3)\n",
    "print(\"y squared:\", y**2)\n",
    "\n",
    "# Many built-in operations\n",
    "print(\"Scalar product:\", np.dot(x,y))\n",
    "\n",
    "# Handy way to create an equispaced array\n",
    "xx = np.linspace(0, 15, 16)\n",
    "print(\"xx:\", xx)\n",
    "\n",
    "yy = np.array([x**2 for x in xx])\n",
    "print(\"yy:\", yy)\n",
    "\n",
    "zz = yy.reshape(4,4)\n",
    "print(\"zz\", zz)\n",
    "print(\"Eigenvalues:\", np.linalg.eigvals(zz))"
   ]
  },
  {
   "cell_type": "markdown",
   "metadata": {},
   "source": [
    "NumPy offers tools for:\n",
    "- Linear algebra\n",
    "- Logic functions\n",
    "- Datatypes\n",
    "- Constant of nature\n",
    "- Matematical functions (also special, as Hermite, Legendre...)\n",
    "- Polynomials\n",
    "- Statistics\n",
    "- Sorting, searching and counting\n",
    "- Fourier Transform\n",
    "- Random generation\n",
    "- Integration with C/C++ and Fortran code"
   ]
  },
  {
   "cell_type": "code",
   "execution_count": 25,
   "metadata": {},
   "outputs": [
    {
     "name": "stdout",
     "output_type": "stream",
     "text": [
      "   2\n",
      "1 x + 2 x + 1\n",
      "p(1): 4\n",
      "Roots: [-1. -1.]\n",
      "Deriv:  \n",
      "2 x + 2\n"
     ]
    }
   ],
   "source": [
    "# Example: Polynomail x^2 + 2 x + 1\n",
    "p = np.poly1d([1, 2, 1])\n",
    "print(p)\n",
    "\n",
    "# Evaluate it at 1\n",
    "print(\"p(1):\", p(1))\n",
    "\n",
    "# Find the roots\n",
    "print(\"Roots:\", p.r)\n",
    "\n",
    "# Take derivative\n",
    "print(\"Deriv:\", np.polyder(p))"
   ]
  },
  {
   "cell_type": "markdown",
   "metadata": {},
   "source": [
    "Interaction with files is really simple"
   ]
  },
  {
   "cell_type": "code",
   "execution_count": 26,
   "metadata": {},
   "outputs": [
    {
     "name": "stdout",
     "output_type": "stream",
     "text": [
      "['array.dat']\n",
      "[ 0.45195533  0.67631487  0.65834425  0.79200876  0.70282038  0.36252459\n",
      "  0.77412305  0.39734459  0.03441047  0.95842789]\n"
     ]
    }
   ],
   "source": [
    "arr = np.random.random(10)\n",
    "\n",
    "# Prints a single column file, for arrays print many columns\n",
    "np.savetxt(\"array.dat\", arr)\n",
    "\n",
    "files = os.listdir(\".\")\n",
    "\n",
    "print([f for f in files if f == \"array.dat\"])\n",
    "\n",
    "data = np.loadtxt(\"array.dat\")\n",
    "\n",
    "print(data)"
   ]
  },
  {
   "cell_type": "markdown",
   "metadata": {},
   "source": [
    "It is possible to save data compressed in a gzip by appending tar.gz to the name of the file (in this case array.dat.tar.gz).\n",
    "\n",
    "**REMEMBER**:\n",
    "- To create: `tar cvzf archive.tar.gz folder`\n",
    "- To extract: `tar xvzf archive.tar.gz`"
   ]
  },
  {
   "cell_type": "markdown",
   "metadata": {},
   "source": [
    "### Matplotlib"
   ]
  },
  {
   "cell_type": "markdown",
   "metadata": {},
   "source": [
    "Matplotlib is the tool for plotting and graphics "
   ]
  },
  {
   "cell_type": "code",
   "execution_count": 27,
   "metadata": {},
   "outputs": [
    {
     "data": {
      "image/png": "[encoded data removed]",
      "text/plain": [
       "<matplotlib.figure.Figure at 0x7f9374675710>"
      ]
     },
     "metadata": {},
     "output_type": "display_data"
    }
   ],
   "source": [
    "import matplotlib.pyplot as plt\n",
    "\n",
    "plt.plot(arr)\n",
    "plt.ylabel('Some numbers')\n",
    "plt.xlabel('An index')\n",
    "plt.title(\"The title!\")\n",
    "plt.show()"
   ]
  },
  {
   "cell_type": "markdown",
   "metadata": {},
   "source": [
    "Matplotlib has a seamless integration with NumPy"
   ]
  },
  {
   "cell_type": "code",
   "execution_count": 28,
   "metadata": {},
   "outputs": [
    {
     "data": {
      "image/png": "[encoded data removed]",
      "text/plain": [
       "<matplotlib.figure.Figure at 0x7f937c6e6a20>"
      ]
     },
     "metadata": {},
     "output_type": "display_data"
    }
   ],
   "source": [
    "x = np.linspace(0,2 * np.pi, 100)\n",
    "y = np.sin(x)\n",
    "z = np.cos(x)\n",
    "\n",
    "plt.plot(x, y, \"r-\", x, z, \"g-\")\n",
    "plt.show()"
   ]
  },
  {
   "cell_type": "markdown",
   "metadata": {},
   "source": [
    "Matplotlib has a great library of examples (https://matplotlib.org/examples/) that in particular contains many of the most common plots (histograms, contour, scatter, pie, ...)"
   ]
  },
  {
   "cell_type": "code",
   "execution_count": 29,
   "metadata": {},
   "outputs": [
    {
     "data": {
      "image/png": "[encoded data removed]",
      "text/plain": [
       "<matplotlib.figure.Figure at 0x7f934bc2c0b8>"
      ]
     },
     "metadata": {},
     "output_type": "display_data"
    }
   ],
   "source": [
    "# Plot of the Lorenz Attractor based on Edward Lorenz's 1963 \"Deterministic\n",
    "# Nonperiodic Flow\" publication.\n",
    "# http://journals.ametsoc.org/doi/abs/10.1175/1520-0469%281963%29020%3C0130%3ADNF%3E2.0.CO%3B2\n",
    "#\n",
    "# Note: Because this is a simple non-linear ODE, it would be more easily\n",
    "#       done using SciPy's ode solver, but this approach depends only\n",
    "#       upon NumPy.\n",
    "\n",
    "import numpy as np\n",
    "import matplotlib.pyplot as plt\n",
    "from mpl_toolkits.mplot3d import Axes3D\n",
    "\n",
    "\n",
    "def lorenz(x, y, z, s=10, r=28, b=2.667):\n",
    "    x_dot = s*(y - x)\n",
    "    y_dot = r*x - y - x*z\n",
    "    z_dot = x*y - b*z\n",
    "    return x_dot, y_dot, z_dot\n",
    "\n",
    "\n",
    "dt = 0.01\n",
    "stepCnt = 10000\n",
    "\n",
    "# Need one more for the initial values\n",
    "xs = np.empty((stepCnt + 1,))\n",
    "ys = np.empty((stepCnt + 1,))\n",
    "zs = np.empty((stepCnt + 1,))\n",
    "\n",
    "# Setting initial values\n",
    "xs[0], ys[0], zs[0] = (0., 1., 1.05)\n",
    "\n",
    "# Stepping through \"time\".\n",
    "for i in range(stepCnt):\n",
    "    # Derivatives of the X, Y, Z state\n",
    "    x_dot, y_dot, z_dot = lorenz(xs[i], ys[i], zs[i])\n",
    "    xs[i + 1] = xs[i] + (x_dot * dt)\n",
    "    ys[i + 1] = ys[i] + (y_dot * dt)\n",
    "    zs[i + 1] = zs[i] + (z_dot * dt)\n",
    "\n",
    "fig = plt.figure()\n",
    "ax = fig.gca(projection='3d')\n",
    "\n",
    "ax.plot(xs, ys, zs, lw=0.5)\n",
    "ax.set_xlabel(\"X Axis\")\n",
    "ax.set_ylabel(\"Y Axis\")\n",
    "ax.set_zlabel(\"Z Axis\")\n",
    "ax.set_title(\"Lorenz Attractor\")\n",
    "\n",
    "plt.show()"
   ]
  },
  {
   "cell_type": "markdown",
   "metadata": {},
   "source": [
    "### SciPy"
   ]
  },
  {
   "cell_type": "markdown",
   "metadata": {},
   "source": [
    "SciPy is a module that relies on NumPy and provides many ready-made tools used in science. Examples:\n",
    "- Optimization\n",
    "- Integration\n",
    "- Interpolation\n",
    "- Signal processing\n",
    "- Statistics\n",
    "\n",
    "Example, minimize: $f\\left(\\mathbf{x}\\right)=\\sum_{i=1}^{N-1}100\\left(x_{i}-x_{i-1}^{2}\\right)^{2}+\\left(1-x_{i-1}\\right)^{2}.$"
   ]
  },
  {
   "cell_type": "code",
   "execution_count": 1,
   "metadata": {},
   "outputs": [
    {
     "name": "stdout",
     "output_type": "stream",
     "text": [
      "Optimization terminated successfully.\n",
      "         Current function value: 0.000000\n",
      "         Iterations: 339\n",
      "         Function evaluations: 571\n",
      "[ 1.  1.  1.  1.  1.]\n"
     ]
    }
   ],
   "source": [
    "import numpy as np\n",
    "from scipy.optimize import minimize\n",
    "\n",
    "def rosen(x):\n",
    "    \"\"\"The Rosenbrock function\"\"\"\n",
    "    return sum(100.0*(x[1:]-x[:-1]**2.0)**2.0 + (1-x[:-1])**2.0)\n",
    "\n",
    "x0 = np.array([1.3, 0.7, 0.8, 1.9, 1.2])\n",
    "res = minimize(rosen, x0, method='nelder-mead', options={'xtol': 1e-8, 'disp': True})\n",
    "\n",
    "print(res.x)"
   ]
  },
  {
   "cell_type": "markdown",
   "metadata": {},
   "source": [
    "# A complete example -- Dice rolls"
   ]
  },
  {
   "cell_type": "markdown",
   "metadata": {
    "collapsed": true
   },
   "source": [
    "Scripted!"
   ]
  }
 ],
 "metadata": {
  "kernelspec": {
   "display_name": "Python 3",
   "language": "python",
   "name": "python3"
  },
  "language_info": {
   "codemirror_mode": {
    "name": "ipython",
    "version": 3
   },
   "file_extension": ".py",
   "mimetype": "text/x-python",
   "name": "python",
   "nbconvert_exporter": "python",
   "pygments_lexer": "ipython3",
   "version": "3.6.1"
  }
 },
 "nbformat": 4,
 "nbformat_minor": 2
}
